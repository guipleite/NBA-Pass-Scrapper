{
 "cells": [
  {
   "cell_type": "code",
   "execution_count": 33,
   "metadata": {},
   "outputs": [],
   "source": [
    "from selenium import webdriver\n",
    "from pandas import *\n",
    "import pandas\n",
    "import numpy as np\n",
    "import matplotlib.pyplot as plt\n",
    "from sqlalchemy import *\n",
    "from time import sleep\n",
    "import pickle"
   ]
  },
  {
   "cell_type": "code",
   "execution_count": 34,
   "metadata": {},
   "outputs": [],
   "source": [
    "# games_id = HDFStore('games_id.h5') # cria arquivo h5"
   ]
  },
  {
   "cell_type": "code",
   "execution_count": 35,
   "metadata": {
    "scrolled": true
   },
   "outputs": [],
   "source": [
    "# browser = webdriver.Chrome('/usr/local/bin/chromedriver')\n",
    "# # entra a prepara o display de todos jogos da página\n",
    "\n",
    "# total_games = 'https://stats.nba.com/search/team-game/#?sort=GAME_DATE&dir=1&Season=2018-19&SeasonType=Regular%20Season'\n",
    "# browser.get(total_games)\n",
    "# browser.find_element_by_xpath('//*[@id=\"custom-filters\"]/div/table/tbody/tr/td[4]/button').click()\n",
    "# browser.find_element_by_xpath('//*[@id=\"streak-finder\"]/div[2]/section/div/div[2]/div/div[2]/stats-run-it/button').click()\n",
    "# sleep(2)\n",
    "# for i in range(1,50):\n",
    "#     sleep(0.5)\n",
    "#     browser.find_element_by_xpath('//*[@id=\"stat-table\"]/nba-stat-table/div[2]/div/a').click()\n",
    "\n",
    "# # cria o df com jogos\n",
    "\n",
    "# games_date = []\n",
    "# for game in range(1,2461):\n",
    "#     game_link = browser.find_element_by_xpath('//*[@id=\"stat-table\"]/nba-stat-table/div[1]/div[1]/table/tbody/tr['+str(game)+']/td[3]/a').get_attribute('href')\n",
    "#     games_date.append(game_link)\n",
    "    \n",
    "# df_semfiltro = pandas.DataFrame({'Game ID': games_id})\n",
    "# df = df_semfiltro.drop_duplicates()\n",
    "# df = df.reset_index(drop=True)\n",
    "# browser.close()"
   ]
  },
  {
   "cell_type": "code",
   "execution_count": 36,
   "metadata": {},
   "outputs": [],
   "source": [
    "# games_id['df'] = df # salva no arquivo h5"
   ]
  },
  {
   "cell_type": "code",
   "execution_count": 37,
   "metadata": {},
   "outputs": [],
   "source": [
    "# df = read_hdf('./games_id.h5')"
   ]
  },
  {
   "cell_type": "code",
   "execution_count": 38,
   "metadata": {},
   "outputs": [],
   "source": [
    "# Game_Dates = []\n",
    "# AwayTeam_list = []\n",
    "# HomeTeam_list = []\n",
    "# ptsAway_list = []\n",
    "# ptsHome_list = []\n",
    "# playersAway = []\n",
    "# playersHome = []"
   ]
  },
  {
   "cell_type": "code",
   "execution_count": 39,
   "metadata": {
    "scrolled": false
   },
   "outputs": [],
   "source": [
    "# browser = webdriver.Chrome('/usr/local/bin/chromedriver')\n",
    "# browser.implicitly_wait(60)\n",
    "\n",
    "\n",
    "# for game in range(1192,len(df)):\n",
    "#     url_game = 'https://stats.nba.com/game/'+df['Game ID'][game]\n",
    "#     browser.get(url_game)\n",
    "#     print(game)\n",
    "#     playersA = []\n",
    "#     playersH = []\n",
    "#     Game_Dates.append(browser.find_element_by_xpath('/html/body/main/div[2]/div/div/div[3]/div/div/div[2]/div[2]/div/div').text)\n",
    "#     AwayTeam_list.append(browser.find_element_by_xpath('/html/body/main/div[2]/div/div/div[3]/div/div/div[2]/div[1]/div[2]/div/div[1]/div[1]/a').text)\n",
    "#     HomeTeam_list.append(browser.find_element_by_xpath('/html/body/main/div[2]/div/div/div[3]/div/div/div[2]/div[1]/div[3]/div/div[1]/div[1]/a').text)\n",
    "#     ptsAway_list.append(browser.find_element_by_xpath('/html/body/main/div[2]/div/div/div[3]/div/div/div[2]/div[1]/div[2]/div/div[3]/div').text)\n",
    "#     ptsHome_list.append(browser.find_element_by_xpath('/html/body/main/div[2]/div/div/div[3]/div/div/div[2]/div[1]/div[3]/div/div[3]/div').text)\n",
    "#     # Players Away\n",
    "#     table = browser.find_element_by_xpath('/html/body/main/div[2]/div/div/div[4]/div/div[2]/div/nba-stat-table[1]/div[2]/div[1]/table')\n",
    "#     rows = table.find_elements_by_css_selector(\".nba-stat-table td.lead a, .nba-stat-table td.first a, .nba-stat-table td.player a, .nba-stat-table td.team a\")\n",
    "#     for row in rows:\n",
    "#         playersA.append(row.get_attribute('href'))\n",
    "#     playersAway.append(playersA)\n",
    "        \n",
    "#     table = browser.find_element_by_xpath('/html/body/main/div[2]/div/div/div[4]/div/div[2]/div/nba-stat-table[2]/div[2]/div[1]/table')\n",
    "#     rows = table.find_elements_by_css_selector(\".nba-stat-table td.lead a, .nba-stat-table td.first a, .nba-stat-table td.player a, .nba-stat-table td.team a\")\n",
    "#     for row in rows:\n",
    "#         playersH.append(row.get_attribute('href'))\n",
    "#     playersHome.append(playersH)\n",
    "    \n",
    "\n",
    "# browser.close()\n",
    "    \n",
    "    \n",
    "    \n",
    "    "
   ]
  },
  {
   "cell_type": "code",
   "execution_count": 40,
   "metadata": {},
   "outputs": [],
   "source": [
    "# df2 = df\n",
    "# df2['Away Team'] = AwayTeam_list\n",
    "# df2['Home Team'] = HomeTeam_list\n",
    "# df2['pts Away'] = ptsAway_list\n",
    "# df2['pts Home'] = ptsHome_list\n",
    "# df2.head()"
   ]
  },
  {
   "cell_type": "code",
   "execution_count": 41,
   "metadata": {},
   "outputs": [],
   "source": [
    "# print(len(Game_Dates))\n",
    "# print(len(AwayTeam_list))\n",
    "# print(len(HomeTeam_list))\n",
    "# print(len(ptsAway_list))\n",
    "# print(len(ptsHome_list))\n",
    "# print(len(playersAway))\n",
    "# print(len(playersHome))"
   ]
  },
  {
   "cell_type": "code",
   "execution_count": null,
   "metadata": {},
   "outputs": [],
   "source": []
  },
  {
   "cell_type": "code",
   "execution_count": 42,
   "metadata": {},
   "outputs": [],
   "source": [
    "# print(Game_Dates[217])\n",
    "# print(AwayTeam_list[166])\n",
    "# print(HomeTeam_list[166])\n",
    "# print(ptsAway_list[166])\n",
    "# print(ptsHome_list[166])\n",
    "# print(playersAway[166])\n",
    "# print(playersHome[166])"
   ]
  },
  {
   "cell_type": "code",
   "execution_count": 43,
   "metadata": {},
   "outputs": [],
   "source": [
    "#len(df)"
   ]
  },
  {
   "cell_type": "code",
   "execution_count": 44,
   "metadata": {},
   "outputs": [],
   "source": [
    "# with open(\"awayteams.txt\", \"wb\") as fp:   #Pickling\n",
    "#     pickle.dump(AwayTeam_list, fp)\n",
    "\n",
    "# with open(\"hometeams.txt\", \"wb\") as fp:   #Pickling\n",
    "#     pickle.dump(HomeTeam_list, fp)\n",
    "\n",
    "# with open(\"gamedates.txt\", \"wb\") as fp:   #Pickling\n",
    "#     pickle.dump(Game_Dates, fp)\n",
    "\n",
    "# with open(\"homepts.txt\", \"wb\") as fp:   #Pickling\n",
    "#     pickle.dump(ptsHome_list, fp)\n",
    "\n",
    "# with open(\"awaypts.txt\", \"wb\") as fp:   #Pickling\n",
    "#     pickle.dump(ptsAway_list, fp)\n",
    "\n",
    "# with open(\"playersaway.txt\", \"wb\") as fp:   #Pickling\n",
    "#     pickle.dump(playersAway, fp)\n",
    "\n",
    "# with open(\"playershome.txt\", \"wb\") as fp:   #Pickling\n",
    "#     pickle.dump(playersHome, fp)"
   ]
  },
  {
   "cell_type": "code",
   "execution_count": 45,
   "metadata": {},
   "outputs": [],
   "source": [
    "# # como ler lista salva\n",
    "# with open(\"awayteams.txt\", \"rb\") as fp:   # Unpickling\n",
    "#     AwayTeam_list = pickle.load(fp)\n",
    "#     print(len(AwayTeam_list))\n",
    "\n",
    "# with open(\"hometeams.txt\", \"rb\") as fp:   # Unpickling\n",
    "#     HomeTeam_list =  pickle.load(fp)\n",
    "#     print(len(HomeTeam_list))\n",
    "\n",
    "# with open(\"gamedates.txt\", \"rb\") as fp:   # Unpickling\n",
    "#     Game_Dates = pickle.load(fp)\n",
    "#     print(len(Game_Dates))\n",
    "\n",
    "# with open(\"homepts.txt\", \"rb\") as fp:   # Unpickling\n",
    "#     ptsHome_list = pickle.load(fp)\n",
    "#     print(len(ptsHome_list))\n",
    "\n",
    "# with open(\"awaypts.txt\", \"rb\") as fp:   # Unpickling\n",
    "#     ptsAway_list = pickle.load(fp)\n",
    "#     print(len(ptsAway_list))\n",
    "\n",
    "# with open(\"playersaway.txt\", \"rb\") as fp:   # Unpickling\n",
    "#     playersAway = pickle.load(fp)\n",
    "#     print(len(playersAway))\n",
    "\n",
    "# with open(\"playershome.txt\", \"rb\") as fp:   # Unpickling\n",
    "#     playersHome = pickle.load(fp)\n",
    "#     print(len(playersHome))"
   ]
  },
  {
   "cell_type": "code",
   "execution_count": null,
   "metadata": {},
   "outputs": [],
   "source": []
  },
  {
   "cell_type": "code",
   "execution_count": 46,
   "metadata": {},
   "outputs": [],
   "source": [
    "#index = 1229"
   ]
  },
  {
   "cell_type": "code",
   "execution_count": 47,
   "metadata": {},
   "outputs": [],
   "source": [
    "#print('https://stats.nba.com/game/'+df['Game ID'][index])"
   ]
  },
  {
   "cell_type": "code",
   "execution_count": 48,
   "metadata": {},
   "outputs": [],
   "source": [
    "# print(Game_Dates[index])\n",
    "# print(AwayTeam_list[index])\n",
    "# print(HomeTeam_list[index])\n",
    "# print(ptsAway_list[index])\n",
    "# print(ptsHome_list[index])\n",
    "# print(playersAway[index])\n",
    "# print(playersHome[index])"
   ]
  },
  {
   "cell_type": "code",
   "execution_count": 49,
   "metadata": {},
   "outputs": [],
   "source": [
    "#df_complete = df\n"
   ]
  },
  {
   "cell_type": "code",
   "execution_count": 50,
   "metadata": {},
   "outputs": [],
   "source": [
    "#df_complete['Players Home Team'] = playersHome"
   ]
  },
  {
   "cell_type": "markdown",
   "metadata": {},
   "source": []
  },
  {
   "cell_type": "code",
   "execution_count": 51,
   "metadata": {},
   "outputs": [],
   "source": [
    "#df_complete.head()"
   ]
  },
  {
   "cell_type": "code",
   "execution_count": 52,
   "metadata": {},
   "outputs": [],
   "source": [
    "#games_complete = HDFStore('games_complete.h5') # cria arquivo h5"
   ]
  },
  {
   "cell_type": "code",
   "execution_count": 53,
   "metadata": {},
   "outputs": [],
   "source": [
    "#games_complete['df_complete'] = df_complete # salva no arquivo h5"
   ]
  },
  {
   "cell_type": "code",
   "execution_count": 54,
   "metadata": {},
   "outputs": [],
   "source": [
    "df_c = read_hdf('./dados_temp/games_complete.h5')"
   ]
  },
  {
   "cell_type": "code",
   "execution_count": 55,
   "metadata": {
    "scrolled": false
   },
   "outputs": [],
   "source": [
    "# df_c.head()"
   ]
  },
  {
   "cell_type": "code",
   "execution_count": null,
   "metadata": {},
   "outputs": [],
   "source": []
  },
  {
   "cell_type": "code",
   "execution_count": 56,
   "metadata": {},
   "outputs": [
    {
     "ename": "WebDriverException",
     "evalue": "Message: 'chromedriver' executable needs to be in PATH. Please see https://sites.google.com/a/chromium.org/chromedriver/home\n",
     "output_type": "error",
     "traceback": [
      "\u001b[0;31m---------------------------------------------------------------------------\u001b[0m",
      "\u001b[0;31mFileNotFoundError\u001b[0m                         Traceback (most recent call last)",
      "\u001b[0;32m/usr/local/lib/python3.7/site-packages/selenium/webdriver/common/service.py\u001b[0m in \u001b[0;36mstart\u001b[0;34m(self)\u001b[0m\n\u001b[1;32m     75\u001b[0m                                             \u001b[0mstderr\u001b[0m\u001b[0;34m=\u001b[0m\u001b[0mself\u001b[0m\u001b[0;34m.\u001b[0m\u001b[0mlog_file\u001b[0m\u001b[0;34m,\u001b[0m\u001b[0;34m\u001b[0m\u001b[0;34m\u001b[0m\u001b[0m\n\u001b[0;32m---> 76\u001b[0;31m                                             stdin=PIPE)\n\u001b[0m\u001b[1;32m     77\u001b[0m         \u001b[0;32mexcept\u001b[0m \u001b[0mTypeError\u001b[0m\u001b[0;34m:\u001b[0m\u001b[0;34m\u001b[0m\u001b[0;34m\u001b[0m\u001b[0m\n",
      "\u001b[0;32m/usr/local/Cellar/python/3.7.2_2/Frameworks/Python.framework/Versions/3.7/lib/python3.7/subprocess.py\u001b[0m in \u001b[0;36m__init__\u001b[0;34m(self, args, bufsize, executable, stdin, stdout, stderr, preexec_fn, close_fds, shell, cwd, env, universal_newlines, startupinfo, creationflags, restore_signals, start_new_session, pass_fds, encoding, errors, text)\u001b[0m\n\u001b[1;32m    774\u001b[0m                                 \u001b[0merrread\u001b[0m\u001b[0;34m,\u001b[0m \u001b[0merrwrite\u001b[0m\u001b[0;34m,\u001b[0m\u001b[0;34m\u001b[0m\u001b[0;34m\u001b[0m\u001b[0m\n\u001b[0;32m--> 775\u001b[0;31m                                 restore_signals, start_new_session)\n\u001b[0m\u001b[1;32m    776\u001b[0m         \u001b[0;32mexcept\u001b[0m\u001b[0;34m:\u001b[0m\u001b[0;34m\u001b[0m\u001b[0;34m\u001b[0m\u001b[0m\n",
      "\u001b[0;32m/usr/local/Cellar/python/3.7.2_2/Frameworks/Python.framework/Versions/3.7/lib/python3.7/subprocess.py\u001b[0m in \u001b[0;36m_execute_child\u001b[0;34m(self, args, executable, preexec_fn, close_fds, pass_fds, cwd, env, startupinfo, creationflags, shell, p2cread, p2cwrite, c2pread, c2pwrite, errread, errwrite, restore_signals, start_new_session)\u001b[0m\n\u001b[1;32m   1521\u001b[0m                             \u001b[0merr_msg\u001b[0m \u001b[0;34m+=\u001b[0m \u001b[0;34m': '\u001b[0m \u001b[0;34m+\u001b[0m \u001b[0mrepr\u001b[0m\u001b[0;34m(\u001b[0m\u001b[0merr_filename\u001b[0m\u001b[0;34m)\u001b[0m\u001b[0;34m\u001b[0m\u001b[0;34m\u001b[0m\u001b[0m\n\u001b[0;32m-> 1522\u001b[0;31m                     \u001b[0;32mraise\u001b[0m \u001b[0mchild_exception_type\u001b[0m\u001b[0;34m(\u001b[0m\u001b[0merrno_num\u001b[0m\u001b[0;34m,\u001b[0m \u001b[0merr_msg\u001b[0m\u001b[0;34m,\u001b[0m \u001b[0merr_filename\u001b[0m\u001b[0;34m)\u001b[0m\u001b[0;34m\u001b[0m\u001b[0;34m\u001b[0m\u001b[0m\n\u001b[0m\u001b[1;32m   1523\u001b[0m                 \u001b[0;32mraise\u001b[0m \u001b[0mchild_exception_type\u001b[0m\u001b[0;34m(\u001b[0m\u001b[0merr_msg\u001b[0m\u001b[0;34m)\u001b[0m\u001b[0;34m\u001b[0m\u001b[0;34m\u001b[0m\u001b[0m\n",
      "\u001b[0;31mFileNotFoundError\u001b[0m: [Errno 2] No such file or directory: '../chromedriver': '../chromedriver'",
      "\nDuring handling of the above exception, another exception occurred:\n",
      "\u001b[0;31mWebDriverException\u001b[0m                        Traceback (most recent call last)",
      "\u001b[0;32m<ipython-input-56-45d6f5ea3b14>\u001b[0m in \u001b[0;36m<module>\u001b[0;34m\u001b[0m\n\u001b[0;32m----> 1\u001b[0;31m \u001b[0mbrowser\u001b[0m \u001b[0;34m=\u001b[0m \u001b[0mwebdriver\u001b[0m\u001b[0;34m.\u001b[0m\u001b[0mChrome\u001b[0m\u001b[0;34m(\u001b[0m\u001b[0;34m'../chromedriver'\u001b[0m\u001b[0;34m)\u001b[0m\u001b[0;34m\u001b[0m\u001b[0;34m\u001b[0m\u001b[0m\n\u001b[0m\u001b[1;32m      2\u001b[0m \u001b[0;34m\u001b[0m\u001b[0m\n\u001b[1;32m      3\u001b[0m \u001b[0mplayer_id\u001b[0m \u001b[0;34m=\u001b[0m \u001b[0;34m'https://stats.nba.com/player/201935'\u001b[0m \u001b[0;31m# define o jogador\u001b[0m\u001b[0;34m\u001b[0m\u001b[0;34m\u001b[0m\u001b[0m\n\u001b[1;32m      4\u001b[0m \u001b[0mseason\u001b[0m \u001b[0;34m=\u001b[0m \u001b[0;34m'2018-19'\u001b[0m \u001b[0;31m# define temporada (ano completo + ano final)\u001b[0m\u001b[0;34m\u001b[0m\u001b[0;34m\u001b[0m\u001b[0m\n\u001b[1;32m      5\u001b[0m \u001b[0mseason_type\u001b[0m \u001b[0;34m=\u001b[0m \u001b[0;34m'Regular%20Season'\u001b[0m \u001b[0;31m# período da temporada ( Regular%20Season, Playoffs)\u001b[0m\u001b[0;34m\u001b[0m\u001b[0;34m\u001b[0m\u001b[0m\n",
      "\u001b[0;32m/usr/local/lib/python3.7/site-packages/selenium/webdriver/chrome/webdriver.py\u001b[0m in \u001b[0;36m__init__\u001b[0;34m(self, executable_path, port, options, service_args, desired_capabilities, service_log_path, chrome_options, keep_alive)\u001b[0m\n\u001b[1;32m     71\u001b[0m             \u001b[0mservice_args\u001b[0m\u001b[0;34m=\u001b[0m\u001b[0mservice_args\u001b[0m\u001b[0;34m,\u001b[0m\u001b[0;34m\u001b[0m\u001b[0;34m\u001b[0m\u001b[0m\n\u001b[1;32m     72\u001b[0m             log_path=service_log_path)\n\u001b[0;32m---> 73\u001b[0;31m         \u001b[0mself\u001b[0m\u001b[0;34m.\u001b[0m\u001b[0mservice\u001b[0m\u001b[0;34m.\u001b[0m\u001b[0mstart\u001b[0m\u001b[0;34m(\u001b[0m\u001b[0;34m)\u001b[0m\u001b[0;34m\u001b[0m\u001b[0;34m\u001b[0m\u001b[0m\n\u001b[0m\u001b[1;32m     74\u001b[0m \u001b[0;34m\u001b[0m\u001b[0m\n\u001b[1;32m     75\u001b[0m         \u001b[0;32mtry\u001b[0m\u001b[0;34m:\u001b[0m\u001b[0;34m\u001b[0m\u001b[0;34m\u001b[0m\u001b[0m\n",
      "\u001b[0;32m/usr/local/lib/python3.7/site-packages/selenium/webdriver/common/service.py\u001b[0m in \u001b[0;36mstart\u001b[0;34m(self)\u001b[0m\n\u001b[1;32m     81\u001b[0m                 raise WebDriverException(\n\u001b[1;32m     82\u001b[0m                     \"'%s' executable needs to be in PATH. %s\" % (\n\u001b[0;32m---> 83\u001b[0;31m                         os.path.basename(self.path), self.start_error_message)\n\u001b[0m\u001b[1;32m     84\u001b[0m                 )\n\u001b[1;32m     85\u001b[0m             \u001b[0;32melif\u001b[0m \u001b[0merr\u001b[0m\u001b[0;34m.\u001b[0m\u001b[0merrno\u001b[0m \u001b[0;34m==\u001b[0m \u001b[0merrno\u001b[0m\u001b[0;34m.\u001b[0m\u001b[0mEACCES\u001b[0m\u001b[0;34m:\u001b[0m\u001b[0;34m\u001b[0m\u001b[0;34m\u001b[0m\u001b[0m\n",
      "\u001b[0;31mWebDriverException\u001b[0m: Message: 'chromedriver' executable needs to be in PATH. Please see https://sites.google.com/a/chromium.org/chromedriver/home\n"
     ]
    }
   ],
   "source": [
    "browser = webdriver.Chrome('../chromedriver')\n",
    "\n",
    "player_id = 'https://stats.nba.com/player/201935' # define o jogador\n",
    "season = '2018-19' # define temporada (ano completo + ano final)\n",
    "season_type = 'Regular%20Season' # período da temporada ( Regular%20Season, Playoffs)\n",
    "date=\"10/20/2018\"\n",
    "DATE = \"OCT 20 2018\"\n",
    "\n",
    "def monthToNum(shortMonth):\n",
    "    return{\n",
    "            'JAN' : 1,\n",
    "            'FEB' : 2,\n",
    "            'MAR' : 3,\n",
    "            'APR' : 4,\n",
    "            'MAY' : 5,\n",
    "            'JUN' : 6,\n",
    "            'JUL' : 7,\n",
    "            'AUG' : 8,\n",
    "            'SEP' : 9, \n",
    "            'OCT' : 10,\n",
    "            'NOV' : 11,\n",
    "            'DEC' : 12\n",
    "    }[shortMonth]\n",
    "\n",
    "def get_player_passes(DATE,player_id,season,game_id):\n",
    "    '''\n",
    "    Get which players this player has passed to\n",
    "    '''\n",
    "    \n",
    "    D = DATE.split(' ') #Parser date format\n",
    "    day = str(monthToNum(D[0]))\n",
    "    month= str(D[1])\n",
    "    month = month.translate({ord(','): None})\n",
    "    year= str(D[2])\n",
    "    \n",
    "    url = player_id+\"/passes-dash/?Season=\"+season+\"&SeasonType=Regular%20Season&DateFrom=\"+day+\"%2F\"+month+\"%2F\"+year+\"&DateTo=\"+day+\"%2F\"+month+\"%2F\"+year\n",
    "    \n",
    "    browser.get(url)\n",
    "    try:\n",
    "        browser.implicitly_wait(30)\n",
    "\n",
    "        player_name = (browser.find_element_by_xpath('/html/body/main/div[2]/div/div/div[2]/div/div/div/div[1]/div/div[2]/div/div[1]/div').text).replace('\\n',' ')\n",
    "\n",
    "        table = browser.find_element_by_class_name('nba-stat-table__overflow')\n",
    "\n",
    "        stats=[]\n",
    "        names=[]\n",
    "\n",
    "        flip = 0\n",
    "\n",
    "        row_list = []\n",
    "\n",
    "        for line_id, lines in enumerate(table.text.split('\\n')):\n",
    "            if line_id < 2:\n",
    "                pass\n",
    "            else:\n",
    "                if flip==1:\n",
    "                    team,freq,pas,ast,fgm,fga,fgp,fgm2,fga2,fgp2,fgm,fga3,fgp3=lines.split(' ')\n",
    "                    stats.append(lines)\n",
    "                    flip=0\n",
    "                    a = names[-1].split(' ')\n",
    "                    c = a[1]+\" \"+a[0][:-1]\n",
    "                    this_row_list =[game_id,player_name,c,team,freq,pas,ast,fgm,fga,fgp,fgm2,fga2,fgp2,fgm,fga3,fgp3] \n",
    "                    row_list.append(this_row_list)\n",
    "                else :\n",
    "                    names.append(lines)\n",
    "                    flip=1 \n",
    "            \n",
    "    \n",
    "        return row_list    \n",
    "    except:\n",
    "        print(\"Nao jogou\")\n",
    "    \n",
    "        \n",
    "#get_player_passes(DATE,player_id,season,201935)"
   ]
  },
  {
   "cell_type": "code",
   "execution_count": null,
   "metadata": {},
   "outputs": [],
   "source": [
    "# browser = webdriver.Chrome('/usr/local/bin/chromedriver')\n",
    "# browser.implicitly_wait(240)\n",
    "\n",
    "# columns = ['game id','Who Passed','Who Received','Team','Freq','Pass Number','Assist','FGM','FGA','FG%','2FGM','2FGA','2FG%','3FGM','3FGA','3FG%']\n",
    "# df_redes = DataFrame( columns=columns)\n",
    "\n",
    "# #for game in range(0,len(df_c)):\n",
    "\n",
    "# game_id = df_c[\"Game ID\"][0]\n",
    "# for player in df_c[\"Players Away Team\"][0]:\n",
    "#     new_row = get_player_passes(df_c[\"Date(not format)\"][0],player,'2018-19',df_c[\"Game ID\"][0])\n",
    "#     if new_row is not None:\n",
    "#         for i in new_row:\n",
    "#             print(i)\n",
    "#             df_redes.loc[len(df_redes)] = i\n",
    "# for player in df_c[\"Players Home Team\"][0]:\n",
    "#     new_row = get_player_passes(df_c[\"Date(not format)\"][0],player,'2018-19',df_c[\"Game ID\"][0])\n",
    "#     if new_row is not None:\n",
    "#         for i in new_row:\n",
    "#             print(i)\n",
    "#             df_redes.loc[len(df_redes)] = i\n",
    "        \n",
    "# browser.close()"
   ]
  },
  {
   "cell_type": "code",
   "execution_count": null,
   "metadata": {},
   "outputs": [],
   "source": [
    "#df_redes.to_csv(\"./dados_temp/game_zero.csv\")"
   ]
  },
  {
   "cell_type": "code",
   "execution_count": null,
   "metadata": {},
   "outputs": [],
   "source": []
  },
  {
   "cell_type": "code",
   "execution_count": null,
   "metadata": {},
   "outputs": [],
   "source": [
    "# Script para montar grafos\n",
    "\n",
    "## necessário importar o freeman provavelmente\n",
    "## utilizar o arquivo game_0.h5 (contém um DataFrame com 1 jogo)\n",
    "## fazer o script pensando em criar 2 redes por jogo(uma para cada time)\n",
    "## no game_0.h5 porém só terá um jogo, mas ja criar um loop referente ao id do jogo para\n",
    "    # funcionar quando a tabela estivar completa "
   ]
  },
  {
   "cell_type": "code",
   "execution_count": 59,
   "metadata": {},
   "outputs": [],
   "source": [
    "df_exemplo_jogo_0 = read_csv(\"game_zero.csv\")"
   ]
  },
  {
   "cell_type": "code",
   "execution_count": 60,
   "metadata": {},
   "outputs": [
    {
     "data": {
      "text/html": [
       "<div>\n",
       "<style scoped>\n",
       "    .dataframe tbody tr th:only-of-type {\n",
       "        vertical-align: middle;\n",
       "    }\n",
       "\n",
       "    .dataframe tbody tr th {\n",
       "        vertical-align: top;\n",
       "    }\n",
       "\n",
       "    .dataframe thead th {\n",
       "        text-align: right;\n",
       "    }\n",
       "</style>\n",
       "<table border=\"1\" class=\"dataframe\">\n",
       "  <thead>\n",
       "    <tr style=\"text-align: right;\">\n",
       "      <th></th>\n",
       "      <th>Unnamed: 0</th>\n",
       "      <th>game id</th>\n",
       "      <th>Who Passed</th>\n",
       "      <th>Who Received</th>\n",
       "      <th>Team</th>\n",
       "      <th>Freq</th>\n",
       "      <th>Pass Number</th>\n",
       "      <th>Assist</th>\n",
       "      <th>FGM</th>\n",
       "      <th>FGA</th>\n",
       "      <th>FG%</th>\n",
       "      <th>2FGM</th>\n",
       "      <th>2FGA</th>\n",
       "      <th>2FG%</th>\n",
       "      <th>3FGM</th>\n",
       "      <th>3FGA</th>\n",
       "      <th>3FG%</th>\n",
       "    </tr>\n",
       "  </thead>\n",
       "  <tbody>\n",
       "    <tr>\n",
       "      <th>0</th>\n",
       "      <td>0</td>\n",
       "      <td>21801225</td>\n",
       "      <td>Jordan Bell</td>\n",
       "      <td>Jacob Evans</td>\n",
       "      <td>GSW</td>\n",
       "      <td>2.5%</td>\n",
       "      <td>1.0</td>\n",
       "      <td>0.0</td>\n",
       "      <td>0.0</td>\n",
       "      <td>0.0</td>\n",
       "      <td>-</td>\n",
       "      <td>0.0</td>\n",
       "      <td>0.0</td>\n",
       "      <td>-</td>\n",
       "      <td>0.0</td>\n",
       "      <td>0.0</td>\n",
       "      <td>-</td>\n",
       "    </tr>\n",
       "    <tr>\n",
       "      <th>1</th>\n",
       "      <td>1</td>\n",
       "      <td>21801225</td>\n",
       "      <td>Jordan Bell</td>\n",
       "      <td>Damion Lee</td>\n",
       "      <td>GSW</td>\n",
       "      <td>5.0%</td>\n",
       "      <td>2.0</td>\n",
       "      <td>0.0</td>\n",
       "      <td>0.0</td>\n",
       "      <td>1.0</td>\n",
       "      <td>0.0</td>\n",
       "      <td>0.0</td>\n",
       "      <td>0.0</td>\n",
       "      <td>-</td>\n",
       "      <td>0.0</td>\n",
       "      <td>1.0</td>\n",
       "      <td>0.0</td>\n",
       "    </tr>\n",
       "    <tr>\n",
       "      <th>2</th>\n",
       "      <td>2</td>\n",
       "      <td>21801225</td>\n",
       "      <td>Jordan Bell</td>\n",
       "      <td>Quinn Cook</td>\n",
       "      <td>GSW</td>\n",
       "      <td>55.0%</td>\n",
       "      <td>22.0</td>\n",
       "      <td>0.0</td>\n",
       "      <td>1.0</td>\n",
       "      <td>3.0</td>\n",
       "      <td>33.3</td>\n",
       "      <td>0.0</td>\n",
       "      <td>1.0</td>\n",
       "      <td>0.0</td>\n",
       "      <td>1.0</td>\n",
       "      <td>2.0</td>\n",
       "      <td>50.0</td>\n",
       "    </tr>\n",
       "    <tr>\n",
       "      <th>3</th>\n",
       "      <td>3</td>\n",
       "      <td>21801225</td>\n",
       "      <td>Jordan Bell</td>\n",
       "      <td>Klay Thompson</td>\n",
       "      <td>GSW</td>\n",
       "      <td>7.5%</td>\n",
       "      <td>3.0</td>\n",
       "      <td>1.0</td>\n",
       "      <td>1.0</td>\n",
       "      <td>1.0</td>\n",
       "      <td>100</td>\n",
       "      <td>0.0</td>\n",
       "      <td>0.0</td>\n",
       "      <td>-</td>\n",
       "      <td>1.0</td>\n",
       "      <td>1.0</td>\n",
       "      <td>100</td>\n",
       "    </tr>\n",
       "    <tr>\n",
       "      <th>4</th>\n",
       "      <td>4</td>\n",
       "      <td>21801225</td>\n",
       "      <td>Jordan Bell</td>\n",
       "      <td>Kevin Durant</td>\n",
       "      <td>GSW</td>\n",
       "      <td>10.0%</td>\n",
       "      <td>4.0</td>\n",
       "      <td>0.0</td>\n",
       "      <td>0.0</td>\n",
       "      <td>0.0</td>\n",
       "      <td>-</td>\n",
       "      <td>0.0</td>\n",
       "      <td>0.0</td>\n",
       "      <td>-</td>\n",
       "      <td>0.0</td>\n",
       "      <td>0.0</td>\n",
       "      <td>-</td>\n",
       "    </tr>\n",
       "  </tbody>\n",
       "</table>\n",
       "</div>"
      ],
      "text/plain": [
       "   Unnamed: 0   game id   Who Passed   Who Received Team   Freq  Pass Number  \\\n",
       "0           0  21801225  Jordan Bell    Jacob Evans  GSW   2.5%          1.0   \n",
       "1           1  21801225  Jordan Bell     Damion Lee  GSW   5.0%          2.0   \n",
       "2           2  21801225  Jordan Bell     Quinn Cook  GSW  55.0%         22.0   \n",
       "3           3  21801225  Jordan Bell  Klay Thompson  GSW   7.5%          3.0   \n",
       "4           4  21801225  Jordan Bell   Kevin Durant  GSW  10.0%          4.0   \n",
       "\n",
       "   Assist  FGM  FGA   FG%  2FGM  2FGA 2FG%  3FGM  3FGA  3FG%  \n",
       "0     0.0  0.0  0.0     -   0.0   0.0    -   0.0   0.0     -  \n",
       "1     0.0  0.0  1.0   0.0   0.0   0.0    -   0.0   1.0   0.0  \n",
       "2     0.0  1.0  3.0  33.3   0.0   1.0  0.0   1.0   2.0  50.0  \n",
       "3     1.0  1.0  1.0   100   0.0   0.0    -   1.0   1.0   100  \n",
       "4     0.0  0.0  0.0     -   0.0   0.0    -   0.0   0.0     -  "
      ]
     },
     "execution_count": 60,
     "metadata": {},
     "output_type": "execute_result"
    }
   ],
   "source": [
    "df_exemplo_jogo_0.head()"
   ]
  },
  {
   "cell_type": "code",
   "execution_count": 83,
   "metadata": {},
   "outputs": [
    {
     "name": "stdout",
     "output_type": "stream",
     "text": [
      "\n",
      "Degree:\n",
      "\n",
      "Jordan Bell 7\n",
      "Jacob Evans 10\n",
      "Damion Lee 8\n",
      "Quinn Cook 10\n",
      "Klay Thompson 8\n",
      "Kevin Durant 9\n",
      "Andrew Bogut 6\n",
      "Andre Iguodala 8\n",
      "Alfonzo McKinnie 8\n",
      "Kevon Looney 5\n",
      "Jonas Jerebko 8\n",
      "Marcus Derrickson 3\n",
      "\n",
      "Betweenness:\n",
      "\n",
      "Jordan Bell 0.014404761904761903\n",
      "Jacob Evans 0.10238095238095238\n",
      "Damion Lee 0.04274891774891775\n",
      "Quinn Cook 0.08925324675324675\n",
      "Klay Thompson 0.018658008658008658\n",
      "Kevin Durant 0.025854978354978356\n",
      "Andrew Bogut 0.014945887445887445\n",
      "Andre Iguodala 0.03003246753246753\n",
      "Alfonzo McKinnie 0.011915584415584412\n",
      "Kevon Looney 0.008495670995670996\n",
      "Jonas Jerebko 0.02312770562770563\n",
      "Marcus Derrickson 0.0\n",
      "\n",
      "Closeness:\n",
      "\n",
      "Jordan Bell 0.7333333333333333\n",
      "Jacob Evans 0.9166666666666666\n",
      "Damion Lee 0.7857142857142857\n",
      "Quinn Cook 0.9166666666666666\n",
      "Klay Thompson 0.7857142857142857\n",
      "Kevin Durant 0.8461538461538461\n",
      "Andrew Bogut 0.6875\n",
      "Andre Iguodala 0.7857142857142857\n",
      "Alfonzo McKinnie 0.7857142857142857\n",
      "Kevon Looney 0.6470588235294118\n",
      "Jonas Jerebko 0.7857142857142857\n",
      "Marcus Derrickson 0.5789473684210527\n",
      "\n",
      "Pagerank:\n",
      "\n",
      "Jordan Bell 0.07934825405747466\n",
      "Jacob Evans 0.11195987521500278\n",
      "Damion Lee 0.08329030036746436\n",
      "Quinn Cook 0.11551674698184192\n",
      "Klay Thompson 0.08535568658371512\n",
      "Kevin Durant 0.09538245967706582\n",
      "Andrew Bogut 0.07072193865671182\n",
      "Andre Iguodala 0.08492156639503157\n",
      "Alfonzo McKinnie 0.08679077387765978\n",
      "Kevon Looney 0.05881698175222252\n",
      "Jonas Jerebko 0.0861190131199474\n",
      "Marcus Derrickson 0.041776403315861924\n"
     ]
    },
    {
     "data": {
      "image/png": "[encoded data removed]",
      "text/plain": [
       "<Figure size 432x288 with 1 Axes>"
      ]
     },
     "metadata": {},
     "output_type": "display_data"
    }
   ],
   "source": [
    "import csv\n",
    "import networkx as nx\n",
    "import matplotlib as mpl\n",
    "import matplotlib.pyplot as plt\n",
    "import pandas as pd\n",
    "\n",
    "g = nx.DiGraph()\n",
    "data_csv = pd.read_csv('game_zero.csv')\n",
    "# csv_f = csv.reader(data_csv,delimiter=',')\n",
    "\n",
    "df = pd.DataFrame(data_csv)\n",
    "\n",
    "df2 = df.drop(columns=['game id','Pass Number','Assist','FGM','FGA','FG%','2FGM','2FGA','2FG%','3FGM','3FGA','3FG%'])\n",
    "df3 = df2.loc[df['Team'] == 'GSW']\n",
    "df4 = df3.drop(columns=['Team'])\n",
    "df4\n",
    "\n",
    "G=nx.from_pandas_edgelist(df4, 'Who Passed', 'Who Received', edge_attr=True, create_using=nx.DiGraph())\n",
    " \n",
    "print(\"\\nDegree:\\n\")    \n",
    "for n in G.nodes:\n",
    "    print(n, G.in_degree(n))\n",
    "    \n",
    "print(\"\\nBetweenness:\\n\")\n",
    "for k in nx.betweenness_centrality(G):\n",
    "    print(k,nx.betweenness_centrality(G).get(k))\n",
    "\n",
    "print(\"\\nCloseness:\\n\")\n",
    "for k in nx.closeness_centrality(G):\n",
    "    print(k,nx.closeness_centrality(G).get(k))\n",
    "    \n",
    "print(\"\\nPagerank:\\n\")\n",
    "for k in nx.pagerank(G):\n",
    "    print(k,nx.pagerank(G).get(k))\n",
    "    \n",
    "# Plot it\n",
    "nx.draw(G, with_labels=True)\n",
    "plt.show()"
   ]
  },
  {
   "cell_type": "code",
   "execution_count": null,
   "metadata": {},
   "outputs": [],
   "source": []
  }
 ],
 "metadata": {
  "kernelspec": {
   "display_name": "Python 3",
   "language": "python",
   "name": "python3"
  },
  "language_info": {
   "codemirror_mode": {
    "name": "ipython",
    "version": 3
   },
   "file_extension": ".py",
   "mimetype": "text/x-python",
   "name": "python",
   "nbconvert_exporter": "python",
   "pygments_lexer": "ipython3",
   "version": "3.7.2"
  }
 },
 "nbformat": 4,
 "nbformat_minor": 2
}
