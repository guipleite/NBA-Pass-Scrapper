{
 "cells": [
  {
   "cell_type": "code",
   "execution_count": 9,
   "metadata": {},
   "outputs": [],
   "source": [
    "from selenium import webdriver\n",
    "from pandas import *\n",
    "import pandas\n",
    "import numpy as np\n",
    "import matplotlib.pyplot as plt\n",
    "from sqlalchemy import *\n",
    "from time import sleep\n",
    "import pickle"
   ]
  },
  {
   "cell_type": "code",
   "execution_count": 2,
   "metadata": {},
   "outputs": [],
   "source": [
    "# games_id = HDFStore('games_id.h5') # cria arquivo h5"
   ]
  },
  {
   "cell_type": "code",
   "execution_count": 3,
   "metadata": {
    "scrolled": true
   },
   "outputs": [],
   "source": [
    "# browser = webdriver.Chrome('/usr/local/bin/chromedriver')\n",
    "# # entra a prepara o display de todos jogos da página\n",
    "\n",
    "# total_games = 'https://stats.nba.com/search/team-game/#?sort=GAME_DATE&dir=1&Season=2018-19&SeasonType=Regular%20Season'\n",
    "# browser.get(total_games)\n",
    "# browser.find_element_by_xpath('//*[@id=\"custom-filters\"]/div/table/tbody/tr/td[4]/button').click()\n",
    "# browser.find_element_by_xpath('//*[@id=\"streak-finder\"]/div[2]/section/div/div[2]/div/div[2]/stats-run-it/button').click()\n",
    "# sleep(2)\n",
    "# for i in range(1,50):\n",
    "#     sleep(0.5)\n",
    "#     browser.find_element_by_xpath('//*[@id=\"stat-table\"]/nba-stat-table/div[2]/div/a').click()\n",
    "\n",
    "# # cria o df com jogos\n",
    "\n",
    "# games_date = []\n",
    "# for game in range(1,2461):\n",
    "#     game_link = browser.find_element_by_xpath('//*[@id=\"stat-table\"]/nba-stat-table/div[1]/div[1]/table/tbody/tr['+str(game)+']/td[3]/a').get_attribute('href')\n",
    "#     games_date.append(game_link)\n",
    "    \n",
    "# df_semfiltro = pandas.DataFrame({'Game ID': games_id})\n",
    "# df = df_semfiltro.drop_duplicates()\n",
    "# df = df.reset_index(drop=True)\n",
    "# browser.close()"
   ]
  },
  {
   "cell_type": "code",
   "execution_count": 4,
   "metadata": {},
   "outputs": [],
   "source": [
    "# games_id['df'] = df # salva no arquivo h5"
   ]
  },
  {
   "cell_type": "code",
   "execution_count": 5,
   "metadata": {},
   "outputs": [],
   "source": [
    "# df = read_hdf('./games_id.h5')"
   ]
  },
  {
   "cell_type": "code",
   "execution_count": 6,
   "metadata": {},
   "outputs": [],
   "source": [
    "# Game_Dates = []\n",
    "# AwayTeam_list = []\n",
    "# HomeTeam_list = []\n",
    "# ptsAway_list = []\n",
    "# ptsHome_list = []\n",
    "# playersAway = []\n",
    "# playersHome = []"
   ]
  },
  {
   "cell_type": "code",
   "execution_count": 7,
   "metadata": {
    "scrolled": false
   },
   "outputs": [],
   "source": [
    "# browser = webdriver.Chrome('/usr/local/bin/chromedriver')\n",
    "# browser.implicitly_wait(60)\n",
    "\n",
    "\n",
    "# for game in range(1192,len(df)):\n",
    "#     url_game = 'https://stats.nba.com/game/'+df['Game ID'][game]\n",
    "#     browser.get(url_game)\n",
    "#     print(game)\n",
    "#     playersA = []\n",
    "#     playersH = []\n",
    "#     Game_Dates.append(browser.find_element_by_xpath('/html/body/main/div[2]/div/div/div[3]/div/div/div[2]/div[2]/div/div').text)\n",
    "#     AwayTeam_list.append(browser.find_element_by_xpath('/html/body/main/div[2]/div/div/div[3]/div/div/div[2]/div[1]/div[2]/div/div[1]/div[1]/a').text)\n",
    "#     HomeTeam_list.append(browser.find_element_by_xpath('/html/body/main/div[2]/div/div/div[3]/div/div/div[2]/div[1]/div[3]/div/div[1]/div[1]/a').text)\n",
    "#     ptsAway_list.append(browser.find_element_by_xpath('/html/body/main/div[2]/div/div/div[3]/div/div/div[2]/div[1]/div[2]/div/div[3]/div').text)\n",
    "#     ptsHome_list.append(browser.find_element_by_xpath('/html/body/main/div[2]/div/div/div[3]/div/div/div[2]/div[1]/div[3]/div/div[3]/div').text)\n",
    "#     # Players Away\n",
    "#     table = browser.find_element_by_xpath('/html/body/main/div[2]/div/div/div[4]/div/div[2]/div/nba-stat-table[1]/div[2]/div[1]/table')\n",
    "#     rows = table.find_elements_by_css_selector(\".nba-stat-table td.lead a, .nba-stat-table td.first a, .nba-stat-table td.player a, .nba-stat-table td.team a\")\n",
    "#     for row in rows:\n",
    "#         playersA.append(row.get_attribute('href'))\n",
    "#     playersAway.append(playersA)\n",
    "        \n",
    "#     table = browser.find_element_by_xpath('/html/body/main/div[2]/div/div/div[4]/div/div[2]/div/nba-stat-table[2]/div[2]/div[1]/table')\n",
    "#     rows = table.find_elements_by_css_selector(\".nba-stat-table td.lead a, .nba-stat-table td.first a, .nba-stat-table td.player a, .nba-stat-table td.team a\")\n",
    "#     for row in rows:\n",
    "#         playersH.append(row.get_attribute('href'))\n",
    "#     playersHome.append(playersH)\n",
    "    \n",
    "\n",
    "# browser.close()\n",
    "    \n",
    "    \n",
    "    \n",
    "    "
   ]
  },
  {
   "cell_type": "code",
   "execution_count": 8,
   "metadata": {},
   "outputs": [],
   "source": [
    "# df2 = df\n",
    "# df2['Away Team'] = AwayTeam_list\n",
    "# df2['Home Team'] = HomeTeam_list\n",
    "# df2['pts Away'] = ptsAway_list\n",
    "# df2['pts Home'] = ptsHome_list\n",
    "# df2.head()"
   ]
  },
  {
   "cell_type": "code",
   "execution_count": 9,
   "metadata": {},
   "outputs": [],
   "source": [
    "# print(len(Game_Dates))\n",
    "# print(len(AwayTeam_list))\n",
    "# print(len(HomeTeam_list))\n",
    "# print(len(ptsAway_list))\n",
    "# print(len(ptsHome_list))\n",
    "# print(len(playersAway))\n",
    "# print(len(playersHome))"
   ]
  },
  {
   "cell_type": "code",
   "execution_count": null,
   "metadata": {},
   "outputs": [],
   "source": []
  },
  {
   "cell_type": "code",
   "execution_count": 10,
   "metadata": {},
   "outputs": [],
   "source": [
    "# print(Game_Dates[217])\n",
    "# print(AwayTeam_list[166])\n",
    "# print(HomeTeam_list[166])\n",
    "# print(ptsAway_list[166])\n",
    "# print(ptsHome_list[166])\n",
    "# print(playersAway[166])\n",
    "# print(playersHome[166])"
   ]
  },
  {
   "cell_type": "code",
   "execution_count": 11,
   "metadata": {},
   "outputs": [],
   "source": [
    "#len(df)"
   ]
  },
  {
   "cell_type": "code",
   "execution_count": 12,
   "metadata": {},
   "outputs": [],
   "source": [
    "# with open(\"awayteams.txt\", \"wb\") as fp:   #Pickling\n",
    "#     pickle.dump(AwayTeam_list, fp)\n",
    "\n",
    "# with open(\"hometeams.txt\", \"wb\") as fp:   #Pickling\n",
    "#     pickle.dump(HomeTeam_list, fp)\n",
    "\n",
    "# with open(\"gamedates.txt\", \"wb\") as fp:   #Pickling\n",
    "#     pickle.dump(Game_Dates, fp)\n",
    "\n",
    "# with open(\"homepts.txt\", \"wb\") as fp:   #Pickling\n",
    "#     pickle.dump(ptsHome_list, fp)\n",
    "\n",
    "# with open(\"awaypts.txt\", \"wb\") as fp:   #Pickling\n",
    "#     pickle.dump(ptsAway_list, fp)\n",
    "\n",
    "# with open(\"playersaway.txt\", \"wb\") as fp:   #Pickling\n",
    "#     pickle.dump(playersAway, fp)\n",
    "\n",
    "# with open(\"playershome.txt\", \"wb\") as fp:   #Pickling\n",
    "#     pickle.dump(playersHome, fp)"
   ]
  },
  {
   "cell_type": "code",
   "execution_count": 13,
   "metadata": {},
   "outputs": [],
   "source": [
    "# # como ler lista salva\n",
    "# with open(\"awayteams.txt\", \"rb\") as fp:   # Unpickling\n",
    "#     AwayTeam_list = pickle.load(fp)\n",
    "#     print(len(AwayTeam_list))\n",
    "\n",
    "# with open(\"hometeams.txt\", \"rb\") as fp:   # Unpickling\n",
    "#     HomeTeam_list =  pickle.load(fp)\n",
    "#     print(len(HomeTeam_list))\n",
    "\n",
    "# with open(\"gamedates.txt\", \"rb\") as fp:   # Unpickling\n",
    "#     Game_Dates = pickle.load(fp)\n",
    "#     print(len(Game_Dates))\n",
    "\n",
    "# with open(\"homepts.txt\", \"rb\") as fp:   # Unpickling\n",
    "#     ptsHome_list = pickle.load(fp)\n",
    "#     print(len(ptsHome_list))\n",
    "\n",
    "# with open(\"awaypts.txt\", \"rb\") as fp:   # Unpickling\n",
    "#     ptsAway_list = pickle.load(fp)\n",
    "#     print(len(ptsAway_list))\n",
    "\n",
    "# with open(\"playersaway.txt\", \"rb\") as fp:   # Unpickling\n",
    "#     playersAway = pickle.load(fp)\n",
    "#     print(len(playersAway))\n",
    "\n",
    "# with open(\"playershome.txt\", \"rb\") as fp:   # Unpickling\n",
    "#     playersHome = pickle.load(fp)\n",
    "#     print(len(playersHome))"
   ]
  },
  {
   "cell_type": "code",
   "execution_count": null,
   "metadata": {},
   "outputs": [],
   "source": []
  },
  {
   "cell_type": "code",
   "execution_count": 14,
   "metadata": {},
   "outputs": [],
   "source": [
    "#index = 1229"
   ]
  },
  {
   "cell_type": "code",
   "execution_count": 15,
   "metadata": {},
   "outputs": [],
   "source": [
    "#print('https://stats.nba.com/game/'+df['Game ID'][index])"
   ]
  },
  {
   "cell_type": "code",
   "execution_count": 16,
   "metadata": {},
   "outputs": [],
   "source": [
    "# print(Game_Dates[index])\n",
    "# print(AwayTeam_list[index])\n",
    "# print(HomeTeam_list[index])\n",
    "# print(ptsAway_list[index])\n",
    "# print(ptsHome_list[index])\n",
    "# print(playersAway[index])\n",
    "# print(playersHome[index])"
   ]
  },
  {
   "cell_type": "code",
   "execution_count": 17,
   "metadata": {},
   "outputs": [],
   "source": [
    "#df_complete = df\n"
   ]
  },
  {
   "cell_type": "code",
   "execution_count": 18,
   "metadata": {},
   "outputs": [],
   "source": [
    "#df_complete['Players Home Team'] = playersHome"
   ]
  },
  {
   "cell_type": "markdown",
   "metadata": {},
   "source": []
  },
  {
   "cell_type": "code",
   "execution_count": 19,
   "metadata": {},
   "outputs": [],
   "source": [
    "#df_complete.head()"
   ]
  },
  {
   "cell_type": "code",
   "execution_count": 20,
   "metadata": {},
   "outputs": [],
   "source": [
    "#games_complete = HDFStore('games_complete.h5') # cria arquivo h5"
   ]
  },
  {
   "cell_type": "code",
   "execution_count": 21,
   "metadata": {},
   "outputs": [],
   "source": [
    "#games_complete['df_complete'] = df_complete # salva no arquivo h5"
   ]
  },
  {
   "cell_type": "code",
   "execution_count": 14,
   "metadata": {},
   "outputs": [],
   "source": [
    "df_c = read_hdf('./dados_temp/games_complete.h5')"
   ]
  },
  {
   "cell_type": "code",
   "execution_count": 15,
   "metadata": {
    "scrolled": false
   },
   "outputs": [],
   "source": [
    "# df_c.head()"
   ]
  },
  {
   "cell_type": "code",
   "execution_count": null,
   "metadata": {},
   "outputs": [],
   "source": []
  },
  {
   "cell_type": "code",
   "execution_count": 16,
   "metadata": {},
   "outputs": [],
   "source": [
    "\n",
    "def monthToNum(shortMonth):\n",
    "    return{\n",
    "            'JAN' : 1,\n",
    "            'FEB' : 2,\n",
    "            'MAR' : 3,\n",
    "            'APR' : 4,\n",
    "            'MAY' : 5,\n",
    "            'JUN' : 6,\n",
    "            'JUL' : 7,\n",
    "            'AUG' : 8,\n",
    "            'SEP' : 9, \n",
    "            'OCT' : 10,\n",
    "            'NOV' : 11,\n",
    "            'DEC' : 12\n",
    "    }[shortMonth]\n",
    "\n",
    "def get_player_passes(DATE,player_id,season,game_id):\n",
    "    '''\n",
    "    Get which players this player has passed to\n",
    "    '''\n",
    "    \n",
    "    D = DATE.split(' ') #Parser date format\n",
    "    day = str(monthToNum(D[0]))\n",
    "    month= str(D[1])\n",
    "    month = month.translate({ord(','): None})\n",
    "    year= str(D[2])\n",
    "    \n",
    "    url = player_id+\"/passes-dash/?Season=\"+season+\"&SeasonType=Regular%20Season&DateFrom=\"+day+\"%2F\"+month+\"%2F\"+year+\"&DateTo=\"+day+\"%2F\"+month+\"%2F\"+year\n",
    "    \n",
    "    browser.get(url)\n",
    "    try:\n",
    "        browser.implicitly_wait(30)\n",
    "\n",
    "        player_name = (browser.find_element_by_xpath('/html/body/main/div[2]/div/div/div[2]/div/div/div/div[1]/div/div[2]/div/div[1]/div').text).replace('\\n',' ')\n",
    "\n",
    "        table = browser.find_element_by_class_name('nba-stat-table__overflow')\n",
    "\n",
    "        stats=[]\n",
    "        names=[]\n",
    "\n",
    "        flip = 0\n",
    "\n",
    "        row_list = []\n",
    "\n",
    "        for line_id, lines in enumerate(table.text.split('\\n')):\n",
    "            if line_id < 2:\n",
    "                pass\n",
    "            else:\n",
    "                if flip==1:\n",
    "                    team,freq,pas,ast,fgm,fga,fgp,fgm2,fga2,fgp2,fgm,fga3,fgp3=lines.split(' ')\n",
    "                    stats.append(lines)\n",
    "                    flip=0\n",
    "                    this_row_list =[game_id,player_name,names[-1],team,freq,pas,ast,fgm,fga,fgp,fgm2,fga2,fgp2,fgm,fga3,fgp3] \n",
    "                    row_list.append(this_row_list)\n",
    "                else :\n",
    "                    names.append(lines)\n",
    "                    flip=1 \n",
    "            \n",
    "    \n",
    "        return row_list   \n",
    "    except:\n",
    "        print(\"Nao jogou\")      "
   ]
  },
  {
   "cell_type": "code",
   "execution_count": 21,
   "metadata": {},
   "outputs": [],
   "source": [
    "# browser = webdriver.Chrome('/usr/local/bin/chromedriver')\n",
    "# browser.implicitly_wait(240)\n",
    "\n",
    "# columns = ['game id','Who Passed','Who Received','Team','Freq','Pass Number','Assist','FGM','FGA','FG%','2FGM','2FGA','2FG%','3FGM','3FGA','3FG%']\n",
    "# df_redes = DataFrame( columns=columns)\n",
    "\n",
    "# #for game in range(0,len(df_c)):\n",
    "\n",
    "# game_id = df_c[\"Game ID\"][0]\n",
    "# for player in df_c[\"Players Away Team\"][0]:\n",
    "#     new_row = get_player_passes(df_c[\"Date(not format)\"][0],player,'2018-19',df_c[\"Game ID\"][0])\n",
    "#     if new_row is not None:\n",
    "#         for i in new_row:\n",
    "#             print(i)\n",
    "#             df_redes.loc[len(df_redes)] = i\n",
    "# for player in df_c[\"Players Home Team\"][0]:\n",
    "#     new_row = get_player_passes(df_c[\"Date(not format)\"][0],player,'2018-19',df_c[\"Game ID\"][0])\n",
    "#     if new_row is not None:\n",
    "#         for i in new_row:\n",
    "#             print(i)\n",
    "#             df_redes.loc[len(df_redes)] = i\n",
    "        \n",
    "# browser.close()"
   ]
  },
  {
   "cell_type": "code",
   "execution_count": 22,
   "metadata": {},
   "outputs": [],
   "source": [
    "#df_redes.to_csv(\"./dados_temp/game_zero.csv\")"
   ]
  },
  {
   "cell_type": "code",
   "execution_count": null,
   "metadata": {},
   "outputs": [],
   "source": []
  },
  {
   "cell_type": "code",
   "execution_count": 23,
   "metadata": {},
   "outputs": [],
   "source": [
    "# Script para montar grafos\n",
    "\n",
    "## necessário importar o freeman provavelmente\n",
    "## utilizar o arquivo game_0.h5 (contém um DataFrame com 1 jogo)\n",
    "## fazer o script pensando em criar 2 redes por jogo(uma para cada time)\n",
    "## no game_0.h5 porém só terá um jogo, mas ja criar um loop referente ao id do jogo para\n",
    "    # funcionar quando a tabela estivar completa "
   ]
  },
  {
   "cell_type": "code",
   "execution_count": 24,
   "metadata": {},
   "outputs": [],
   "source": [
    "df_exemplo_jogo_0 = read_csv(\"./dados_temp/game_zero.csv\")"
   ]
  },
  {
   "cell_type": "code",
   "execution_count": 25,
   "metadata": {},
   "outputs": [
    {
     "data": {
      "text/html": [
       "<div>\n",
       "<style scoped>\n",
       "    .dataframe tbody tr th:only-of-type {\n",
       "        vertical-align: middle;\n",
       "    }\n",
       "\n",
       "    .dataframe tbody tr th {\n",
       "        vertical-align: top;\n",
       "    }\n",
       "\n",
       "    .dataframe thead th {\n",
       "        text-align: right;\n",
       "    }\n",
       "</style>\n",
       "<table border=\"1\" class=\"dataframe\">\n",
       "  <thead>\n",
       "    <tr style=\"text-align: right;\">\n",
       "      <th></th>\n",
       "      <th>Unnamed: 0</th>\n",
       "      <th>game id</th>\n",
       "      <th>Who Passed</th>\n",
       "      <th>Who Received</th>\n",
       "      <th>Team</th>\n",
       "      <th>Freq</th>\n",
       "      <th>Pass Number</th>\n",
       "      <th>Assist</th>\n",
       "      <th>FGM</th>\n",
       "      <th>FGA</th>\n",
       "      <th>FG%</th>\n",
       "      <th>2FGM</th>\n",
       "      <th>2FGA</th>\n",
       "      <th>2FG%</th>\n",
       "      <th>3FGM</th>\n",
       "      <th>3FGA</th>\n",
       "      <th>3FG%</th>\n",
       "    </tr>\n",
       "  </thead>\n",
       "  <tbody>\n",
       "    <tr>\n",
       "      <th>0</th>\n",
       "      <td>0</td>\n",
       "      <td>21801225</td>\n",
       "      <td>Jordan Bell</td>\n",
       "      <td>Evans, Jacob</td>\n",
       "      <td>GSW</td>\n",
       "      <td>2.5%</td>\n",
       "      <td>1.0</td>\n",
       "      <td>0.0</td>\n",
       "      <td>0.0</td>\n",
       "      <td>0.0</td>\n",
       "      <td>-</td>\n",
       "      <td>0.0</td>\n",
       "      <td>0.0</td>\n",
       "      <td>-</td>\n",
       "      <td>0.0</td>\n",
       "      <td>0.0</td>\n",
       "      <td>-</td>\n",
       "    </tr>\n",
       "    <tr>\n",
       "      <th>1</th>\n",
       "      <td>1</td>\n",
       "      <td>21801225</td>\n",
       "      <td>Jordan Bell</td>\n",
       "      <td>Lee, Damion</td>\n",
       "      <td>GSW</td>\n",
       "      <td>5.0%</td>\n",
       "      <td>2.0</td>\n",
       "      <td>0.0</td>\n",
       "      <td>0.0</td>\n",
       "      <td>1.0</td>\n",
       "      <td>0.0</td>\n",
       "      <td>0.0</td>\n",
       "      <td>0.0</td>\n",
       "      <td>-</td>\n",
       "      <td>0.0</td>\n",
       "      <td>1.0</td>\n",
       "      <td>0.0</td>\n",
       "    </tr>\n",
       "    <tr>\n",
       "      <th>2</th>\n",
       "      <td>2</td>\n",
       "      <td>21801225</td>\n",
       "      <td>Jordan Bell</td>\n",
       "      <td>Cook, Quinn</td>\n",
       "      <td>GSW</td>\n",
       "      <td>55.0%</td>\n",
       "      <td>22.0</td>\n",
       "      <td>0.0</td>\n",
       "      <td>1.0</td>\n",
       "      <td>3.0</td>\n",
       "      <td>33.3</td>\n",
       "      <td>0.0</td>\n",
       "      <td>1.0</td>\n",
       "      <td>0.0</td>\n",
       "      <td>1.0</td>\n",
       "      <td>2.0</td>\n",
       "      <td>50.0</td>\n",
       "    </tr>\n",
       "    <tr>\n",
       "      <th>3</th>\n",
       "      <td>3</td>\n",
       "      <td>21801225</td>\n",
       "      <td>Jordan Bell</td>\n",
       "      <td>Thompson, Klay</td>\n",
       "      <td>GSW</td>\n",
       "      <td>7.5%</td>\n",
       "      <td>3.0</td>\n",
       "      <td>1.0</td>\n",
       "      <td>1.0</td>\n",
       "      <td>1.0</td>\n",
       "      <td>100</td>\n",
       "      <td>0.0</td>\n",
       "      <td>0.0</td>\n",
       "      <td>-</td>\n",
       "      <td>1.0</td>\n",
       "      <td>1.0</td>\n",
       "      <td>100</td>\n",
       "    </tr>\n",
       "    <tr>\n",
       "      <th>4</th>\n",
       "      <td>4</td>\n",
       "      <td>21801225</td>\n",
       "      <td>Jordan Bell</td>\n",
       "      <td>Durant, Kevin</td>\n",
       "      <td>GSW</td>\n",
       "      <td>10.0%</td>\n",
       "      <td>4.0</td>\n",
       "      <td>0.0</td>\n",
       "      <td>0.0</td>\n",
       "      <td>0.0</td>\n",
       "      <td>-</td>\n",
       "      <td>0.0</td>\n",
       "      <td>0.0</td>\n",
       "      <td>-</td>\n",
       "      <td>0.0</td>\n",
       "      <td>0.0</td>\n",
       "      <td>-</td>\n",
       "    </tr>\n",
       "  </tbody>\n",
       "</table>\n",
       "</div>"
      ],
      "text/plain": [
       "   Unnamed: 0   game id   Who Passed    Who Received Team   Freq  Pass Number  \\\n",
       "0           0  21801225  Jordan Bell    Evans, Jacob  GSW   2.5%          1.0   \n",
       "1           1  21801225  Jordan Bell     Lee, Damion  GSW   5.0%          2.0   \n",
       "2           2  21801225  Jordan Bell     Cook, Quinn  GSW  55.0%         22.0   \n",
       "3           3  21801225  Jordan Bell  Thompson, Klay  GSW   7.5%          3.0   \n",
       "4           4  21801225  Jordan Bell   Durant, Kevin  GSW  10.0%          4.0   \n",
       "\n",
       "   Assist  FGM  FGA   FG%  2FGM  2FGA 2FG%  3FGM  3FGA  3FG%  \n",
       "0     0.0  0.0  0.0     -   0.0   0.0    -   0.0   0.0     -  \n",
       "1     0.0  0.0  1.0   0.0   0.0   0.0    -   0.0   1.0   0.0  \n",
       "2     0.0  1.0  3.0  33.3   0.0   1.0  0.0   1.0   2.0  50.0  \n",
       "3     1.0  1.0  1.0   100   0.0   0.0    -   1.0   1.0   100  \n",
       "4     0.0  0.0  0.0     -   0.0   0.0    -   0.0   0.0     -  "
      ]
     },
     "execution_count": 25,
     "metadata": {},
     "output_type": "execute_result"
    }
   ],
   "source": [
    "df_exemplo_jogo_0.head()"
   ]
  },
  {
   "cell_type": "code",
   "execution_count": null,
   "metadata": {},
   "outputs": [],
   "source": []
  },
  {
   "cell_type": "code",
   "execution_count": null,
   "metadata": {},
   "outputs": [],
   "source": []
  }
 ],
 "metadata": {
  "kernelspec": {
   "display_name": "Python 3",
   "language": "python",
   "name": "python3"
  },
  "language_info": {
   "codemirror_mode": {
    "name": "ipython",
    "version": 3
   },
   "file_extension": ".py",
   "mimetype": "text/x-python",
   "name": "python",
   "nbconvert_exporter": "python",
   "pygments_lexer": "ipython3",
   "version": "3.7.3"
  }
 },
 "nbformat": 4,
 "nbformat_minor": 2
}
